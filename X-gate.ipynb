{
 "cells": [
  {
   "cell_type": "code",
   "execution_count": 172,
   "metadata": {},
   "outputs": [],
   "source": [
    "from qiskit import * #importing the qiskit package\n",
    "from math import pi"
   ]
  },
  {
   "cell_type": "code",
   "execution_count": 173,
   "metadata": {},
   "outputs": [],
   "source": [
    "QR = QuantumRegister(4)  #creating the 4 qubit quantum register with indexing 0 to 3"
   ]
  },
  {
   "cell_type": "code",
   "execution_count": 174,
   "metadata": {},
   "outputs": [],
   "source": [
    "CR = ClassicalRegister(4)  #creating the classical register to get the output of the quantum qubits on classical register in the form of 0 and 1"
   ]
  },
  {
   "cell_type": "code",
   "execution_count": 175,
   "metadata": {},
   "outputs": [],
   "source": [
    "QC = QuantumCircuit(QR,CR) #creating the quantum circuit with the quantum register and classical register"
   ]
  },
  {
   "cell_type": "code",
   "execution_count": 176,
   "metadata": {},
   "outputs": [
    {
     "data": {
      "text/html": [
       "<pre style=\"word-wrap: normal;white-space: pre;background: #fff0;line-height: 1.1;font-family: &quot;Courier New&quot;,Courier,monospace\">      \n",
       "q6_0: \n",
       "      \n",
       "q6_1: \n",
       "      \n",
       "q6_2: \n",
       "      \n",
       "q6_3: \n",
       "      \n",
       "c6_0: \n",
       "      \n",
       "c6_1: \n",
       "      \n",
       "c6_2: \n",
       "      \n",
       "c6_3: \n",
       "      </pre>"
      ],
      "text/plain": [
       "      \n",
       "q6_0: \n",
       "      \n",
       "q6_1: \n",
       "      \n",
       "q6_2: \n",
       "      \n",
       "q6_3: \n",
       "      \n",
       "c6_0: \n",
       "      \n",
       "c6_1: \n",
       "      \n",
       "c6_2: \n",
       "      \n",
       "c6_3: \n",
       "      "
      ]
     },
     "execution_count": 176,
     "metadata": {},
     "output_type": "execute_result"
    }
   ],
   "source": [
    "QC.draw() #Draw method is used for representing the circuit "
   ]
  },
  {
   "cell_type": "code",
   "execution_count": 177,
   "metadata": {},
   "outputs": [
    {
     "data": {
      "image/png": "[encoded data removed]",
      "text/plain": [
       "<Figure size 189.028x325.08 with 1 Axes>"
      ]
     },
     "execution_count": 177,
     "metadata": {},
     "output_type": "execute_result"
    }
   ],
   "source": [
    "QC.draw(output='mpl') #by appling the 'mpl' in output the representation changes"
   ]
  },
  {
   "cell_type": "code",
   "execution_count": 178,
   "metadata": {},
   "outputs": [
    {
     "data": {
      "text/plain": [
       "<qiskit.circuit.instructionset.InstructionSet at 0x190beb229e8>"
      ]
     },
     "execution_count": 178,
     "metadata": {},
     "output_type": "execute_result"
    }
   ],
   "source": [
    "QC.x(QR[0])\n",
    "QC.s(QR[0])\n",
    "#QC.s(QR[0])\n",
    "#QC.rz(pi/2,QR[0])\n",
    "\n",
    " # we use the first quantum gate called 'x-gate' which is like the not gate which convert 0 into 1 and 1 into 0. we apply the x gate on the 0th quantum register. "
   ]
  },
  {
   "cell_type": "code",
   "execution_count": null,
   "metadata": {},
   "outputs": [],
   "source": []
  },
  {
   "cell_type": "code",
   "execution_count": 179,
   "metadata": {},
   "outputs": [
    {
     "data": {
      "text/plain": [
       "<qiskit.circuit.instructionset.InstructionSet at 0x190beb22b70>"
      ]
     },
     "execution_count": 179,
     "metadata": {},
     "output_type": "execute_result"
    }
   ],
   "source": [
    "QC.measure(QR,CR)  #measure method is used for getting the output of first quantum register on first classical register we can also apply is as QC.measure(QR[0],CR[0])"
   ]
  },
  {
   "cell_type": "code",
   "execution_count": 180,
   "metadata": {},
   "outputs": [
    {
     "data": {
      "image/png": "[encoded data removed]",
      "text/plain": [
       "<Figure size 429.828x325.08 with 1 Axes>"
      ]
     },
     "execution_count": 180,
     "metadata": {},
     "output_type": "execute_result"
    }
   ],
   "source": [
    "QC.draw(output='mpl')"
   ]
  },
  {
   "cell_type": "code",
   "execution_count": 181,
   "metadata": {},
   "outputs": [],
   "source": [
    "simulator=Aer.get_backend('qasm_simulator') # vector simulator is used for geting the quantum hardware to run the circuit AER is the one package of quantum computing by which we use statevector_simulator to run our circuit."
   ]
  },
  {
   "cell_type": "code",
   "execution_count": 182,
   "metadata": {},
   "outputs": [],
   "source": [
    "\n",
    "job=execute(QC,simulator,shots=1094) #now we it final step where we run circuit with 1094 shots which means we run our circuit 1094 times to reduce the error"
   ]
  },
  {
   "cell_type": "code",
   "execution_count": 183,
   "metadata": {},
   "outputs": [
    {
     "name": "stdout",
     "output_type": "stream",
     "text": [
      "{'0001': 1094}\n"
     ]
    }
   ],
   "source": [
    "hist=job.result().get_counts()\n",
    "print(hist) #here we print the output with count of output "
   ]
  },
  {
   "cell_type": "code",
   "execution_count": 184,
   "metadata": {},
   "outputs": [
    {
     "data": {
      "image/png": "[encoded data removed]",
      "text/plain": [
       "<Figure size 504x360 with 1 Axes>"
      ]
     },
     "execution_count": 184,
     "metadata": {},
     "output_type": "execute_result"
    }
   ],
   "source": [
    "from qiskit.visualization import plot_histogram\n",
    "\n",
    "plot_histogram(hist)# here we print the output with the help of histogram"
   ]
  },
  {
   "cell_type": "code",
   "execution_count": null,
   "metadata": {},
   "outputs": [],
   "source": []
  },
  {
   "cell_type": "code",
   "execution_count": null,
   "metadata": {},
   "outputs": [],
   "source": []
  }
 ],
 "metadata": {
  "kernelspec": {
   "display_name": "Python 3",
   "language": "python",
   "name": "python3"
  },
  "language_info": {
   "codemirror_mode": {
    "name": "ipython",
    "version": 3
   },
   "file_extension": ".py",
   "mimetype": "text/x-python",
   "name": "python",
   "nbconvert_exporter": "python",
   "pygments_lexer": "ipython3",
   "version": "3.7.3"
  }
 },
 "nbformat": 4,
 "nbformat_minor": 2
}
