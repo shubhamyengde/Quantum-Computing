{
 "cells": [
  {
   "cell_type": "code",
   "execution_count": 32,
   "metadata": {},
   "outputs": [],
   "source": [
    "import qiskit"
   ]
  },
  {
   "cell_type": "code",
   "execution_count": 33,
   "metadata": {},
   "outputs": [],
   "source": [
    "from qiskit import*"
   ]
  },
  {
   "cell_type": "code",
   "execution_count": 34,
   "metadata": {},
   "outputs": [],
   "source": [
    "qr = QuantumRegister(3)"
   ]
  },
  {
   "cell_type": "code",
   "execution_count": 35,
   "metadata": {},
   "outputs": [],
   "source": [
    "cr= ClassicalRegister(3)"
   ]
  },
  {
   "cell_type": "code",
   "execution_count": 36,
   "metadata": {},
   "outputs": [],
   "source": [
    "cir=QuantumCircuit(qr,cr)"
   ]
  },
  {
   "cell_type": "code",
   "execution_count": 37,
   "metadata": {},
   "outputs": [
    {
     "data": {
      "text/plain": [
       "<qiskit.circuit.instructionset.InstructionSet at 0x1e78121e358>"
      ]
     },
     "execution_count": 37,
     "metadata": {},
     "output_type": "execute_result"
    }
   ],
   "source": [
    "cir.h(qr[0])"
   ]
  },
  {
   "cell_type": "code",
   "execution_count": 38,
   "metadata": {},
   "outputs": [
    {
     "data": {
      "text/html": [
       "<pre style=\"word-wrap: normal;white-space: pre;background: #fff0;line-height: 1.1;font-family: &quot;Courier New&quot;,Courier,monospace\">      ┌───┐\n",
       "q3_0: ┤ H ├\n",
       "      └───┘\n",
       "q3_1: ─────\n",
       "           \n",
       "q3_2: ─────\n",
       "           \n",
       "c2_0: ═════\n",
       "           \n",
       "c2_1: ═════\n",
       "           \n",
       "c2_2: ═════\n",
       "           </pre>"
      ],
      "text/plain": [
       "      ┌───┐\n",
       "q3_0: ┤ H ├\n",
       "      └───┘\n",
       "q3_1: ─────\n",
       "           \n",
       "q3_2: ─────\n",
       "           \n",
       "c2_0: ═════\n",
       "           \n",
       "c2_1: ═════\n",
       "           \n",
       "c2_2: ═════\n",
       "           "
      ]
     },
     "execution_count": 38,
     "metadata": {},
     "output_type": "execute_result"
    }
   ],
   "source": [
    "cir.draw()"
   ]
  },
  {
   "cell_type": "code",
   "execution_count": 39,
   "metadata": {},
   "outputs": [
    {
     "data": {
      "image/png": "[encoded data removed]",
      "text/plain": [
       "<Figure size 249.228x264.88 with 1 Axes>"
      ]
     },
     "execution_count": 39,
     "metadata": {},
     "output_type": "execute_result"
    }
   ],
   "source": [
    "cir.draw(output='mpl')"
   ]
  },
  {
   "cell_type": "code",
   "execution_count": 40,
   "metadata": {},
   "outputs": [
    {
     "data": {
      "text/plain": [
       "<qiskit.circuit.instructionset.InstructionSet at 0x1e7831833c8>"
      ]
     },
     "execution_count": 40,
     "metadata": {},
     "output_type": "execute_result"
    }
   ],
   "source": [
    "#cir.cx(qr[0],qr[1])\n",
    "cir.x(qr[2])"
   ]
  },
  {
   "cell_type": "code",
   "execution_count": 41,
   "metadata": {},
   "outputs": [
    {
     "data": {
      "image/png": "[encoded data removed]",
      "text/plain": [
       "<Figure size 249.228x264.88 with 1 Axes>"
      ]
     },
     "execution_count": 41,
     "metadata": {},
     "output_type": "execute_result"
    }
   ],
   "source": [
    "cir.draw(output='mpl')"
   ]
  },
  {
   "cell_type": "code",
   "execution_count": 42,
   "metadata": {},
   "outputs": [],
   "source": [
    "vector_sim = Aer.get_backend('statevector_simulator')"
   ]
  },
  {
   "cell_type": "code",
   "execution_count": 43,
   "metadata": {},
   "outputs": [
    {
     "data": {
      "text/plain": [
       "[<QasmSimulator('qasm_simulator') from AerProvider()>,\n",
       " <StatevectorSimulator('statevector_simulator') from AerProvider()>,\n",
       " <UnitarySimulator('unitary_simulator') from AerProvider()>,\n",
       " <PulseSimulator('pulse_simulator') from AerProvider()>]"
      ]
     },
     "execution_count": 43,
     "metadata": {},
     "output_type": "execute_result"
    }
   ],
   "source": [
    "Aer.backends()"
   ]
  },
  {
   "cell_type": "code",
   "execution_count": 44,
   "metadata": {},
   "outputs": [],
   "source": [
    "job=execute(cir,vector_sim)"
   ]
  },
  {
   "cell_type": "code",
   "execution_count": 45,
   "metadata": {},
   "outputs": [],
   "source": [
    "ket=job.result().get_statevector()"
   ]
  },
  {
   "cell_type": "code",
   "execution_count": 46,
   "metadata": {},
   "outputs": [
    {
     "name": "stdout",
     "output_type": "stream",
     "text": [
      "0j\n",
      "0j\n",
      "0j\n",
      "0j\n",
      "(0.7071067811865476+0j)\n",
      "(0.7071067811865476+0j)\n",
      "0j\n",
      "0j\n"
     ]
    }
   ],
   "source": [
    "ket = job.result().get_statevector()\n",
    "for amplitude in ket:\n",
    "    print(amplitude)"
   ]
  },
  {
   "cell_type": "code",
   "execution_count": 47,
   "metadata": {},
   "outputs": [
    {
     "data": {
      "text/plain": [
       "<qiskit.circuit.instructionset.InstructionSet at 0x1e782dfa940>"
      ]
     },
     "execution_count": 47,
     "metadata": {},
     "output_type": "execute_result"
    }
   ],
   "source": [
    "cir.measure(qr,cr)\n"
   ]
  },
  {
   "cell_type": "code",
   "execution_count": 48,
   "metadata": {},
   "outputs": [
    {
     "data": {
      "image/png": "[encoded data removed]",
      "text/plain": [
       "<Figure size 429.828x264.88 with 1 Axes>"
      ]
     },
     "execution_count": 48,
     "metadata": {},
     "output_type": "execute_result"
    }
   ],
   "source": [
    "cir.draw(output='mpl')"
   ]
  },
  {
   "cell_type": "code",
   "execution_count": 49,
   "metadata": {},
   "outputs": [],
   "source": [
    "emulator=Aer.get_backend('qasm_simulator')"
   ]
  },
  {
   "cell_type": "code",
   "execution_count": 50,
   "metadata": {},
   "outputs": [],
   "source": [
    "job=execute(cir,emulator,shots=8800)"
   ]
  },
  {
   "cell_type": "code",
   "execution_count": 51,
   "metadata": {},
   "outputs": [
    {
     "name": "stdout",
     "output_type": "stream",
     "text": [
      "{'101': 4440, '100': 4360}\n"
     ]
    }
   ],
   "source": [
    "hist=job.result().get_counts()\n",
    "print(hist)"
   ]
  },
  {
   "cell_type": "code",
   "execution_count": 52,
   "metadata": {},
   "outputs": [
    {
     "data": {
      "image/png": "[encoded data removed]",
      "text/plain": [
       "<Figure size 504x360 with 1 Axes>"
      ]
     },
     "execution_count": 52,
     "metadata": {},
     "output_type": "execute_result"
    }
   ],
   "source": [
    "from qiskit.visualization import plot_histogram\n",
    "\n",
    "plot_histogram(hist)"
   ]
  },
  {
   "cell_type": "code",
   "execution_count": 53,
   "metadata": {
    "collapsed": true
   },
   "outputs": [
    {
     "name": "stdout",
     "output_type": "stream",
     "text": [
      "['100', '100', '101', '101', '101', '100', '100', '101', '100', '101', '100', '101', '100', '100', '100', '101', '101', '100', '101', '101', '101', '101', '100', '101', '100', '100', '101', '100', '101', '100', '100', '101', '101', '100', '100', '101', '101', '100', '101', '101', '100', '101', '100', '101', '101', '101', '100', '101', '100', '100', '101', '100', '101', '100', '100', '101', '100', '101', '100', '101', '101', '100', '101', '100', '101', '101', '100', '100', '100', '101', '100', '100', '101', '101', '100', '100', '100', '101', '100', '101', '100', '101', '101', '100', '100', '101', '101', '100', '101', '100', '100', '100', '100', '100', '100', '100', '100', '101', '101', '100', '101', '101', '100', '101', '101', '100', '100', '100', '100', '101', '100', '101', '101', '100', '100', '101', '100', '101', '100', '100', '100', '100', '100', '100', '101', '101', '100', '100', '100', '101', '100', '100', '100', '101', '100', '100', '101', '101', '101', '101', '100', '101', '100', '101', '100', '101', '100', '100', '100', '101', '101', '100', '101', '100', '100', '101', '100', '101', '101', '100', '101', '100', '100', '100', '100', '101', '101', '101', '100', '101', '100', '101', '100', '100', '101', '101', '101', '101', '100', '101', '101', '100', '100', '100', '101', '101', '101', '100', '101', '101', '100', '101', '100', '101', '101', '101', '101', '100', '101', '101', '101', '101', '100', '101', '101', '100', '100', '101', '100', '100', '100', '101', '100', '100', '101', '101', '101', '101', '100', '100', '101', '101', '101', '100', '101', '100', '101', '100', '101', '101', '101', '101', '100', '100', '101', '100', '101', '101', '101', '100', '101', '100', '101', '100', '100', '100', '101', '101', '100', '100', '100', '101', '101', '100', '100', '100', '101', '100', '100', '101', '100', '100', '100', '100', '100', '101', '100', '101', '100', '100', '100', '100', '101', '101', '100', '101', '100', '100', '101', '100', '101', '101', '100', '100', '100', '101', '100', '100', '100', '101', '101', '100', '101', '100', '100', '101', '101', '101', '100', '101', '101', '100', '100', '101', '101', '100', '101', '100', '100', '100', '101', '100', '101', '100', '101', '101', '100', '101', '101', '101', '100', '100', '100', '101', '101', '100', '100', '100', '101', '101', '101', '100', '100', '101', '101', '101', '101', '101', '100', '101', '101', '101', '101', '100', '100', '100', '101', '100', '101', '100', '100', '101', '101', '101', '101', '101', '101', '101', '100', '101', '101', '101', '100', '100', '100', '100', '100', '101', '100', '100', '101', '100', '101', '101', '101', '100', '100', '100', '100', '100', '100', '101', '101', '100', '101', '101', '100', '100', '100', '101', '100', '100', '101', '101', '101', '101', '101', '100', '100', '100', '100', '101', '100', '100', '100', '101', '100', '101', '100', '101', '100', '101', '101', '101', '101', '100', '100', '101', '100', '101', '101', '101', '100', '100', '100', '100', '100', '101', '100', '101', '100', '101', '100', '100', '100', '100', '100', '101', '101', '101', '100', '100', '101', '101', '101', '101', '100', '100', '101', '100', '100', '100', '100', '100', '101', '100', '100', '100', '101', '100', '101', '101', '100', '101', '101', '100', '100', '100', '101', '101', '101', '100', '100', '100', '101', '100', '101', '100', '101', '101', '101', '100', '101', '101', '101', '100', '100', '100', '101', '100', '100', '100', '101', '100', '101', '100', '101', '101', '100', '101', '100', '101', '101', '100', '100', '100', '101', '101', '100', '101', '100', '100', '101', '100', '100', '101', '100', '101', '101', '100', '101', '100', '100', '101', '101', '101', '101', '101', '100', '100', '101', '100', '100', '100', '100', '100', '101', '101', '100', '100', '100', '101', '100', '101', '101', '100', '101', '101', '100', '100', '100', '101', '100', '101', '100', '101', '101', '100', '100', '100', '101', '100', '101', '101', '101', '100', '101', '100', '101', '100', '100', '101', '100', '100', '100', '101', '101', '101', '101', '101', '100', '101', '101', '101', '101', '101', '101', '101', '100', '100', '100', '100', '101', '101', '101', '101', '101', '101', '101', '100', '100', '100', '101', '101', '101', '101', '100', '100', '100', '101', '101', '100', '101', '100', '101', '100', '101', '100', '101', '100', '100', '100', '101', '100', '101', '101', '100', '100', '101', '100', '100', '101', '101', '100', '100', '100', '101', '100', '101', '100', '101', '101', '101', '101', '101', '100', '101', '100', '100', '101', '100', '101', '101', '100', '101', '101', '100', '100', '101', '100', '100', '100', '100', '100', '100', '101', '101', '101', '101', '101', '101', '100', '101', '101', '101', '100', '100', '100', '100', '101', '101', '101', '101', '100', '100', '100', '100', '100', '100', '101', '101', '101', '100', '101', '100', '101', '100', '101', '100', '101', '100', '100', '100', '101', '100', '101', '101', '100', '100', '101', '101', '101', '100', '101', '100', '100', '101', '100', '100', '100', '100', '101', '100', '100', '101', '101', '100', '101', '100', '100', '100', '101', '101', '101', '101', '101', '100', '101', '100', '101', '101', '101', '100', '101', '101', '100', '101', '101', '100', '100', '100', '101', '100', '100', '100', '101', '100', '100', '100', '100', '100', '101', '101', '101', '100', '101', '100', '101', '100', '100', '100', '101', '101', '100', '101', '101', '100', '101', '101', '101', '100', '100', '101', '100', '101', '101', '101', '101', '101', '101', '101', '100', '100', '100', '101', '100', '101', '100', '100', '100', '100', '101', '100', '101', '101', '100', '101', '101', '101', '100', '101', '101', '100', '101', '101', '100', '101', '100', '100', '101', '100', '100', '101', '101', '101', '101', '101', '101', '101', '100', '100', '100', '101', '100', '101', '100', '100', '100', '100', '101', '100', '100', '100', '101', '101', '100', '100', '100', '101', '101', '100', '101', '101', '100', '100', '101', '100', '101', '101', '100', '101', '100', '100', '100', '100', '100', '101', '100', '100', '100', '100', '100', '101', '100', '100', '100', '101', '100', '100', '100', '101', '100', '101', '101', '100', '100', '101', '101', '101', '100', '100', '100', '100', '101', '101', '101', '101', '101', '101', '101', '101', '101', '101', '101', '100', '101', '100', '100', '101', '101', '100', '100', '101', '100', '100', '101', '101', '101', '100', '100', '100', '101', '101', '101', '100', '101', '100', '100', '100', '100', '101', '101', '101', '101', '100', '100', '100', '101', '100', '101', '100', '101', '101', '100', '101', '101', '101', '100', '100', '101', '101', '101', '101', '100', '100', '101', '100', '100', '100', '100', '100', '100', '101', '100', '100', '100', '101', '101', '100', '101', '100', '100', '100', '101', '100', '101', '100', '101', '100', '101', '101', '100', '101', '100', '100', '100', '100', '101', '100', '101', '100', '101', '101', '101', '100', '100', '100', '101', '101', '100']\n"
     ]
    }
   ],
   "source": [
    "job = execute(cir, emulator, shots=1000, memory=True)\n",
    "samples = job.result().get_memory()\n",
    "print(samples)"
   ]
  },
  {
   "cell_type": "code",
   "execution_count": 74,
   "metadata": {},
   "outputs": [],
   "source": [
    "qr1=QuantumRegister(2)\n",
    "cr1=ClassicalRegister(2)\n",
    "cir1=QuantumCircuit(qr1,cr1)"
   ]
  },
  {
   "cell_type": "code",
   "execution_count": 76,
   "metadata": {},
   "outputs": [],
   "source": [
    "QuantumCircuit?"
   ]
  },
  {
   "cell_type": "code",
   "execution_count": null,
   "metadata": {},
   "outputs": [],
   "source": []
  },
  {
   "cell_type": "code",
   "execution_count": 55,
   "metadata": {},
   "outputs": [
    {
     "data": {
      "text/plain": [
       "<qiskit.circuit.instructionset.InstructionSet at 0x1e7830bcba8>"
      ]
     },
     "execution_count": 55,
     "metadata": {},
     "output_type": "execute_result"
    }
   ],
   "source": [
    "cir1.x(qr1[0])"
   ]
  },
  {
   "cell_type": "code",
   "execution_count": 56,
   "metadata": {},
   "outputs": [
    {
     "data": {
      "text/plain": [
       "<qiskit.circuit.instructionset.InstructionSet at 0x1e782dec400>"
      ]
     },
     "execution_count": 56,
     "metadata": {},
     "output_type": "execute_result"
    }
   ],
   "source": [
    "cir1.x(qr1[1])\n",
    "cir1.measure(qr1[0],cr1[0])\n",
    "cir1.measure(qr1[1],cr1[0])"
   ]
  },
  {
   "cell_type": "code",
   "execution_count": 57,
   "metadata": {},
   "outputs": [
    {
     "data": {
      "image/png": "[encoded data removed]",
      "text/plain": [
       "<Figure size 369.628x204.68 with 1 Axes>"
      ]
     },
     "execution_count": 57,
     "metadata": {},
     "output_type": "execute_result"
    }
   ],
   "source": [
    "cir1.draw(output='mpl')"
   ]
  },
  {
   "cell_type": "code",
   "execution_count": 60,
   "metadata": {},
   "outputs": [],
   "source": [
    "simulator=Aer.get_backend('statevector_simulator')"
   ]
  },
  {
   "cell_type": "code",
   "execution_count": 62,
   "metadata": {},
   "outputs": [],
   "source": [
    "job=execute(cir1,simulator,shots=1094)"
   ]
  },
  {
   "cell_type": "code",
   "execution_count": 65,
   "metadata": {},
   "outputs": [
    {
     "name": "stdout",
     "output_type": "stream",
     "text": [
      "{'01': 1}\n"
     ]
    }
   ],
   "source": [
    "hist1=job.result().get_counts()\n",
    "print(hist1)"
   ]
  },
  {
   "cell_type": "code",
   "execution_count": 68,
   "metadata": {},
   "outputs": [
    {
     "data": {
      "image/png": "[encoded data removed]",
      "text/plain": [
       "<Figure size 504x360 with 1 Axes>"
      ]
     },
     "execution_count": 68,
     "metadata": {},
     "output_type": "execute_result"
    }
   ],
   "source": [
    "plot_histogram(hist1)"
   ]
  },
  {
   "cell_type": "code",
   "execution_count": 72,
   "metadata": {},
   "outputs": [
    {
     "name": "stderr",
     "output_type": "stream",
     "text": [
      "configrc.store_credentials:WARNING:2020-04-26 15:57:04,413: Credentials already present. Set overwrite=True to overwrite.\n"
     ]
    },
    {
     "data": {
      "text/plain": [
       "<AccountProvider for IBMQ(hub='ibm-q', group='open', project='main')>"
      ]
     },
     "execution_count": 72,
     "metadata": {},
     "output_type": "execute_result"
    }
   ],
   "source": [
    "IBMQ.save_account('44957c28d0440ba207efdd20e8fc6bcfdea14ff01de9016fff9b625fce8355c1c58fbe50e7e0c412efac7e7902d5f1fb88364d4fcc4d7585342dc4d0bf35b87f')\n",
    "IBMQ.load_account()\n"
   ]
  },
  {
   "cell_type": "code",
   "execution_count": null,
   "metadata": {},
   "outputs": [],
   "source": []
  }
 ],
 "metadata": {
  "kernelspec": {
   "display_name": "Python 3",
   "language": "python",
   "name": "python3"
  },
  "language_info": {
   "codemirror_mode": {
    "name": "ipython",
    "version": 3
   },
   "file_extension": ".py",
   "mimetype": "text/x-python",
   "name": "python",
   "nbconvert_exporter": "python",
   "pygments_lexer": "ipython3",
   "version": "3.7.3"
  }
 },
 "nbformat": 4,
 "nbformat_minor": 2
}
